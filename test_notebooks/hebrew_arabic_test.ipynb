{
 "cells": [
  {
   "cell_type": "markdown",
   "metadata": {},
   "source": [
    "# בדיקת תמיכה בעברית וערבית\n",
    "\n",
    "זהו טקסט בעברית שאמור להופיע מימין לשמאל. הטקסט כולל מספרים כמו 123 ומילים באנגלית כמו Python שאמורות להישאר בכיוון הנכון.\n",
    "\n",
    "## اختبار اللغة العربية\n",
    "\n",
    "هذا نص باللغة العربية يجب أن يظهر من اليمين إلى اليسار. النص يحتوي على أرقام مثل 456 وكلمات إنجليزية مثل Jupyter التي يجب أن تبقى في الاتجاه الصحيح."
   ]
  },
  {
   "cell_type": "code",
   "execution_count": null,
   "metadata": {},
   "outputs": [],
   "source": [
    "# קוד Python בעברית\n",
    "print(\"שלום עולם\")\n",
    "\n",
    "# متغيرات عربية\n",
    "النتيجة = 42\n",
    "print(f\"النتيجة هي: {النتيجة}\")"
   ]
  },
  {
   "cell_type": "markdown",
   "metadata": {},
   "source": [
    "### בדיקת רשימות וטבלאות\n",
    "\n",
    "1. פריט ראשון בעברית\n",
    "2. פריט שני עם מספרים 789\n",
    "3. פריט שלישי\n",
    "\n",
    "| עמודה א | עמודה ב | עמודה ג |\n",
    "|---------|---------|----------|\n",
    "| ערך 1   | ערך 2   | ערך 3    |\n",
    "| ערך 4   | ערך 5   | ערך 6    |"
   ]
  },
  {
   "cell_type": "code",
   "execution_count": null,
   "metadata": {},
   "outputs": [],
   "source": [
    "# Mixed Hebrew and English code\n",
    "import pandas as pd\n",
    "\n",
    "# יצירת DataFrame עם נתונים בעברית\n",
    "נתונים = {\n",
    "    'שם': ['אליס', 'בוב', 'צ'רלי'],\n",
    "    'גיל': [25, 30, 35],\n",
    "    'עיר': ['תל אביב', 'חיפה', 'ירושלים']\n",
    "}\n",
    "\n",
    "df = pd.DataFrame(נתונים)\n",
    "print(\"טבלת הנתונים:\")\n",
    "print(df)"
   ]
  }
 ],
 "metadata": {
  "kernelspec": {
   "display_name": "Python 3",
   "language": "python",
   "name": "python3"
  },
  "language_info": {
   "codemirror_mode": {
    "name": "ipython",
    "version": 3
   },
   "file_extension": ".py",
   "mimetype": "text/x-python",
   "name": "python",
   "nbconvert_exporter": "python",
   "pygments_lexer": "ipython3",
   "version": "3.8.5"
  }
 },
 "nbformat": 4,
 "nbformat_minor": 4
}