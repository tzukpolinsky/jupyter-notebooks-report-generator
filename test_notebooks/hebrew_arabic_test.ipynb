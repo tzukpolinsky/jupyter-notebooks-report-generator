{
 "cells": [
  {
   "cell_type": "markdown",
   "metadata": {},
   "source": [
    "# בדיקת תמיכה בעברית וערבית\n",
    "\n",
    "זהו טקסט בעברית שאמור להופיע מימין לשמאל. הטקסט כולל מספרים כמו 123 ומילים באנגלית כמו Python שאמורות להישאר בכיוון הנכון.\n",
    "\n",
    "## اختبار اللغة العربية\n",
    "\n",
    "هذا نص باللغة العربية يجب أن يظهر من اليمين إلى اليسار. النص يحتوي على أرقام مثل 456 وكلمات إنجليزية مثل Jupyter التي يجب أن تبقى في الاتجاه الصحيح."
   ]
  },
  {
   "cell_type": "code",
   "metadata": {
    "ExecuteTime": {
     "end_time": "2025-08-18T08:14:53.358066Z",
     "start_time": "2025-08-18T08:14:53.354662Z"
    }
   },
   "source": [
    "# קוד Python בעברית\n",
    "print(\"שלום עולם\")\n",
    "\n",
    "# متغيرات عربية\n",
    "النتيجة = 42\n",
    "print(f\"النتيجة هي: {النتيجة}\")"
   ],
   "outputs": [
    {
     "name": "stdout",
     "output_type": "stream",
     "text": [
      "שלום עולם\n",
      "النتيجة هي: 42\n"
     ]
    }
   ],
   "execution_count": 1
  },
  {
   "cell_type": "markdown",
   "metadata": {},
   "source": [
    "### בדיקת רשימות וטבלאות\n",
    "\n",
    "1. פריט ראשון בעברית\n",
    "2. פריט שני עם מספרים 789\n",
    "3. פריט שלישי\n",
    "\n",
    "| עמודה א | עמודה ב | עמודה ג |\n",
    "|---------|---------|----------|\n",
    "| ערך 1   | ערך 2   | ערך 3    |\n",
    "| ערך 4   | ערך 5   | ערך 6    |"
   ]
  },
  {
   "cell_type": "code",
   "metadata": {
    "ExecuteTime": {
     "end_time": "2025-08-18T08:21:01.887853Z",
     "start_time": "2025-08-18T08:21:01.879089Z"
    }
   },
   "source": "# Mixed Hebrew and English code\nimport pandas as pd\nimport matplotlib.pyplot as plt\nimport numpy as np\n\n# יצירת DataFrame עם נתונים בעברית\nנתונים = {\n    'שם': ['אליס', 'בוב', 'צ\\'רלי', 'דינה', 'אבי'],\n    'גיל': [25, 30, 35, 28, 42],\n    'עיר': ['תל אביב', 'חיפה', 'ירושלים', 'באר שבע', 'אילת'],\n    'משכורת': [12000, 15000, 18000, 13500, 22000]\n}\n\ndf = pd.DataFrame(נתונים)\nprint(\"טבלת הנתונים:\")\ndisplay(df)",
   "outputs": [],
   "execution_count": null
  },
  {
   "cell_type": "markdown",
   "source": "### תמונות וגרפים\n\nהטקסט הזה צריך להיות RTL, אבל התמונות והגרפים צריכים להישאר במקום הנכון.\n\n![Sample Image](https://via.placeholder.com/400x200/0066CC/FFFFFF?text=Sample+Chart)\n\nهذا نص عربي مع صورة أيضاً. يجب أن تبقى الصورة في مكانها الصحيح.",
   "metadata": {}
  },
  {
   "cell_type": "code",
   "source": "# תמונה וגרף נוסף\nfig, (ax1, ax2) = plt.subplots(1, 2, figsize=(12, 5))\n\n# גרף עוגה\nax1.pie(df['משכורת'], labels=df['שם'], autopct='%1.1f%%', startangle=90)\nax1.set_title('חלוקת משכורות לפי עובד')\n\n# גרף קווים\nages = df['גיל']\nsalaries = df['משכורת']\nax2.plot(ages, salaries, marker='o', linewidth=2, markersize=8)\nax2.set_xlabel('גיל')\nax2.set_ylabel('משכורת (₪)')\nax2.set_title('קשר בין גיל למשכורת')\nax2.grid(True, alpha=0.3)\n\nplt.tight_layout()\nplt.show()\n\nprint(\"התמונות והגרפים צריכים להישאר ממורכזים במסך, ללא תלות בכיוון הטקסט\")",
   "metadata": {},
   "execution_count": null,
   "outputs": []
  },
  {
   "cell_type": "markdown",
   "source": "### טבלה מורכבת עם עיצוב\n\nהטבלה הזו צריכה לשמור על המבנה שלה (עמודות משמאל לימין) אבל הטקסט בתוכה צריך להיות RTL.\n\n| מספר | שם הלקוח | עיר מגורים | סכום הזמנה | תאריך | סטטוס |\n|------|-----------|-------------|-------------|--------|--------|\n| 001 | יוסי כהן | תל אביב | 1,250 ₪ | 15/08/2025 | ✅ שולם |\n| 002 | מירי לוי | חיפה | 890 ₪ | 16/08/2025 | ⏳ בהמתנה |\n| 003 | אברהם שמיר | ירושלים | 2,100 ₪ | 17/08/2025 | ✅ שולם |\n| 004 | רחל גולדברג | באר שבע | 1,750 ₪ | 18/08/2025 | ❌ בוטל |\n\n**סיכום:** סך הכל 4 הזמנות, סכום כולל: 6,990 ₪",
   "metadata": {}
  },
  {
   "cell_type": "code",
   "source": "# יצירת גרף עם תוויות בעברית\nplt.figure(figsize=(10, 6))\n\n# גרף עמודות\ncities = df['עיר']\nsalaries = df['משכורת']\n\nplt.bar(cities, salaries, color=['#FF6B6B', '#4ECDC4', '#45B7D1', '#96CEB4', '#FFEAA7'])\nplt.title('משכורות לפי עיר', fontsize=16, fontweight='bold')\nplt.xlabel('עיר')\nplt.ylabel('משכורת (₪)')\nplt.xticks(rotation=45)\nplt.grid(axis='y', alpha=0.3)\nplt.tight_layout()\nplt.show()\n\nprint(\"הגרף מציג את המשכורות בערים השונות\")",
   "metadata": {},
   "execution_count": null,
   "outputs": []
  },
  {
   "metadata": {},
   "cell_type": "code",
   "outputs": [],
   "execution_count": null,
   "source": ""
  }
 ],
 "metadata": {
  "kernelspec": {
   "display_name": "Python 3",
   "language": "python",
   "name": "python3"
  },
  "language_info": {
   "codemirror_mode": {
    "name": "ipython",
    "version": 3
   },
   "file_extension": ".py",
   "mimetype": "text/x-python",
   "name": "python",
   "nbconvert_exporter": "python",
   "pygments_lexer": "ipython3",
   "version": "3.8.5"
  }
 },
 "nbformat": 4,
 "nbformat_minor": 4
}