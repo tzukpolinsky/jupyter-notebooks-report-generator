{
 "cells": [
  {
   "cell_type": "markdown",
   "metadata": {},
   "source": [
    "# Statistical Analysis Report\n",
    "This notebook demonstrates statistical analysis with plots and tables."
   ]
  },
  {
   "cell_type": "code",
   "execution_count": null,
   "metadata": {},
   "outputs": [],
   "source": [
    "import numpy as np\n",
    "import matplotlib.pyplot as plt\n",
    "import pandas as pd\n",
    "from scipy import stats\n",
    "\n",
    "# Generate sample data\n",
    "np.random.seed(42)\n",
    "data = np.random.normal(100, 15, 1000)\n",
    "\n",
    "# Basic statistics\n",
    "print(f\"Mean: {np.mean(data):.2f}\")\n",
    "print(f\"Median: {np.median(data):.2f}\")\n",
    "print(f\"Standard Deviation: {np.std(data):.2f}\")\n",
    "print(f\"Min: {np.min(data):.2f}\")\n",
    "print(f\"Max: {np.max(data):.2f}\")"
   ]
  },
  {
   "cell_type": "code",
   "execution_count": null,
   "metadata": {},
   "outputs": [],
   "source": [
    "# Create histogram\n",
    "plt.figure(figsize=(10, 6))\n",
    "plt.hist(data, bins=50, alpha=0.7, color='skyblue', edgecolor='black')\n",
    "plt.title('Distribution of Sample Data')\n",
    "plt.xlabel('Value')\n",
    "plt.ylabel('Frequency')\n",
    "plt.grid(True, alpha=0.3)\n",
    "plt.show()"
   ]
  },
  {
   "cell_type": "code",
   "execution_count": null,
   "metadata": {},
   "outputs": [],
   "source": [
    "# Create a DataFrame with summary statistics\n",
    "df = pd.DataFrame({\n",
    "    'Metric': ['Count', 'Mean', 'Std', 'Min', '25%', '50%', '75%', 'Max'],\n",
    "    'Value': [len(data), np.mean(data), np.std(data), np.min(data), \n",
    "              np.percentile(data, 25), np.median(data), \n",
    "              np.percentile(data, 75), np.max(data)]\n",
    "})\n",
    "\n",
    "print(\"Summary Statistics:\")\n",
    "print(df.round(2))"
   ]
  }
 ],
 "metadata": {
  "kernelspec": {
   "display_name": "Python 3",
   "language": "python",
   "name": "python3"
  },
  "language_info": {
   "name": "python",
   "version": "3.8.5"
  }
 },
 "nbformat": 4,
 "nbformat_minor": 4
}