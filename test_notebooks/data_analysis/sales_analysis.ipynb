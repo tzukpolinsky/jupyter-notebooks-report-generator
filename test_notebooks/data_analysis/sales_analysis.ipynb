{
 "cells": [
  {
   "cell_type": "markdown",
   "metadata": {},
   "source": [
    "# Sales Data Analysis\n",
    "Comprehensive analysis of sales performance data."
   ]
  },
  {
   "cell_type": "code",
   "execution_count": null,
   "metadata": {},
   "outputs": [],
   "source": [
    "import pandas as pd\n",
    "import matplotlib.pyplot as plt\n",
    "import seaborn as sns\n",
    "import numpy as np\n",
    "\n",
    "# Create sample sales data\n",
    "np.random.seed(123)\n",
    "dates = pd.date_range('2023-01-01', periods=365, freq='D')\n",
    "sales_data = pd.DataFrame({\n",
    "    'Date': dates,\n",
    "    'Sales': np.random.normal(1000, 200, 365) + np.sin(np.arange(365) * 2 * np.pi / 7) * 100,\n",
    "    'Region': np.random.choice(['North', 'South', 'East', 'West'], 365),\n",
    "    'Product': np.random.choice(['A', 'B', 'C', 'D'], 365)\n",
    "})\n",
    "\n",
    "print(\"Sales Data Overview:\")\n",
    "print(sales_data.head())\n",
    "print(f\"\\nTotal records: {len(sales_data)}\")\n",
    "print(f\"Date range: {sales_data['Date'].min()} to {sales_data['Date'].max()}\")"
   ]
  },
  {
   "cell_type": "code",
   "execution_count": null,
   "metadata": {},
   "outputs": [],
   "source": [
    "# Sales trend over time\n",
    "plt.figure(figsize=(15, 8))\n",
    "plt.subplot(2, 2, 1)\n",
    "sales_data.set_index('Date')['Sales'].plot()\n",
    "plt.title('Daily Sales Trend')\n",
    "plt.ylabel('Sales ($)')\n",
    "\n",
    "# Sales by region\n",
    "plt.subplot(2, 2, 2)\n",
    "region_sales = sales_data.groupby('Region')['Sales'].sum()\n",
    "region_sales.plot(kind='bar')\n",
    "plt.title('Sales by Region')\n",
    "plt.ylabel('Total Sales ($)')\n",
    "plt.xticks(rotation=45)\n",
    "\n",
    "# Sales by product\n",
    "plt.subplot(2, 2, 3)\n",
    "product_sales = sales_data.groupby('Product')['Sales'].sum()\n",
    "product_sales.plot(kind='pie', autopct='%1.1f%%')\n",
    "plt.title('Sales Distribution by Product')\n",
    "plt.ylabel('')\n",
    "\n",
    "# Monthly sales trend\n",
    "plt.subplot(2, 2, 4)\n",
    "monthly_sales = sales_data.groupby(sales_data['Date'].dt.month)['Sales'].mean()\n",
    "monthly_sales.plot(kind='line', marker='o')\n",
    "plt.title('Average Monthly Sales')\n",
    "plt.xlabel('Month')\n",
    "plt.ylabel('Average Sales ($)')\n",
    "\n",
    "plt.tight_layout()\n",
    "plt.show()"
   ]
  },
  {
   "cell_type": "code",
   "execution_count": null,
   "metadata": {},
   "outputs": [],
   "source": [
    "# Summary statistics table\n",
    "summary_stats = sales_data.groupby('Region')['Sales'].agg([\n",
    "    'count', 'mean', 'std', 'min', 'max', 'sum'\n",
    "]).round(2)\n",
    "\n",
    "print(\"Sales Summary by Region:\")\n",
    "print(summary_stats)"
   ]
  }
 ],
 "metadata": {
  "kernelspec": {
   "display_name": "Python 3",
   "language": "python",
   "name": "python3"
  },
  "language_info": {
   "name": "python",
   "version": "3.8.5"
  }
 },
 "nbformat": 4,
 "nbformat_minor": 4
}